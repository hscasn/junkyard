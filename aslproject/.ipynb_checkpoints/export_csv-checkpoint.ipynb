{
 "cells": [
  {
   "cell_type": "code",
   "execution_count": null,
   "metadata": {},
   "outputs": [],
   "source": [
    "%%bash  \n",
    "bq --location=US extract 'qwiklabs-gcp-3f19cbba7aa3ae63:project.model_dataset1_eval' gs://project-sample/dataset1_data_eval.csv"
   ]
  },
  {
   "cell_type": "code",
   "execution_count": null,
   "metadata": {},
   "outputs": [],
   "source": [
    "%%bash  \n",
    "bq --location=US extract 'qwiklabs-gcp-3f19cbba7aa3ae63:project.model_dataset1_train' gs://project-sample/dataset1_data_train.csv"
   ]
  },
  {
   "cell_type": "code",
   "execution_count": null,
   "metadata": {},
   "outputs": [],
   "source": [
    "%%bash  \n",
    "bq --location=US extract 'qwiklabs-gcp-3f19cbba7aa3ae63:project.model_dataset1_test' gs://project-sample/dataset1_data_test.csv"
   ]
  }
 ],
 "metadata": {
  "kernelspec": {
   "display_name": "Python 3",
   "language": "python",
   "name": "python3"
  },
  "language_info": {
   "codemirror_mode": {
    "name": "ipython",
    "version": 3
   },
   "file_extension": ".py",
   "mimetype": "text/x-python",
   "name": "python",
   "nbconvert_exporter": "python",
   "pygments_lexer": "ipython3",
   "version": "3.5.3"
  }
 },
 "nbformat": 4,
 "nbformat_minor": 2
}
