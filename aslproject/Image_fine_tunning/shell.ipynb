{
 "cells": [
  {
   "cell_type": "code",
   "execution_count": 6,
   "metadata": {},
   "outputs": [
    {
     "name": "stdout",
     "output_type": "stream",
     "text": [
      "config.yml\t\t\t  fine_tunning.ipynb  test_res50\n",
      "dataset1\t\t\t  image_model\t      train.csv\n",
      "dataset1_data_eval_label_ix.csv   shell.ipynb\t      Untitled Folder\n",
      "dataset1_data_train_label_ix.csv  test\n",
      "eval.csv\t\t\t  test_3\n"
     ]
    }
   ],
   "source": [
    "!ls"
   ]
  },
  {
   "cell_type": "code",
   "execution_count": 15,
   "metadata": {},
   "outputs": [
    {
     "data": {
      "text/plain": [
       "'j/a'"
      ]
     },
     "execution_count": 15,
     "metadata": {},
     "output_type": "execute_result"
    }
   ],
   "source": [
    "import os\n",
    "os\n",
    "os.path.join('j','a')"
   ]
  },
  {
   "cell_type": "code",
   "execution_count": 31,
   "metadata": {},
   "outputs": [
    {
     "name": "stdout",
     "output_type": "stream",
     "text": [
      "/home/jupyter/Final_Project/Image_fine_tunning/dataset1/14441992.jpeg\n"
     ]
    }
   ],
   "source": [
    "!ls /home/jupyter/Final_Project/Image_fine_tunning/dataset1/14441992.jpeg"
   ]
  },
  {
   "cell_type": "code",
   "execution_count": 32,
   "metadata": {},
   "outputs": [
    {
     "name": "stdout",
     "output_type": "stream",
     "text": [
      "bucket_name,product_id,product_name,description,label_ix\n",
      "Underwear,/home/jupyter/Final_Project/Image_fine_tunning/dataset1/259371050.jpeg,3-Pack Highcut Briefs ,Look and feel great with this three pack of highcut briefs. The set comes with a geometric print pair and two solid pairs for stylish options. Soft and stretchy for a comfortable fit. ,14\n",
      "Office Chairs,/home/jupyter/Final_Project/Image_fine_tunning/dataset1/184740213.jpeg,\"Raynor Eurotech Excelsior Fabric Big and Tall Manger's Chair, Charcoal\",\"Versatile and elegant, the Raynor Contemporary Executive Chair in a charcoal shade is an ideal addition to your office space. Furnished with high-quality fabric upholstery, this executive chair adds a fresh look to your workspace. You can change the back angle with the help of the center-tilt mechanism that enables you to recline while reading or working. Its base is equipped with caster wheels for easy mobility from one desk to another while working.\",22\n",
      "Business/Formal Dress Suits,/home/jupyter/Final_Project/Image_fine_tunning/dataset1/291735.jpeg,Wilke Rodriguez Navy Multistripe Modern Fit Suit,\"Styled with tonal stripes, this suit pairs a two-button jacket with flat-front slacks.\",45\n",
      "Protective/Active Pants,/home/jupyter/Final_Project/Image_fine_tunning/dataset1/234352032.jpeg,Bonobos Men's The Highland Golf Pants,\"Never sacrifice comfort for style when you are on the links wearing the Bonobos The Highland Pants. Crafted using performance fabric, The Highland Pants ensure you stay cool and comfortable while you play. The two front and back pockets provide you with plenty of storage space, while the shirt gripper gel keeps your shirt tucked in during your swing. Specifications Zip fly with button closure Two front pockets Two back pockets Logo on left pocket Zipper adjustable hems Shirt gripper gel to keep your shirt tucked Performance fabric to keep you cool and comfortable\",38\n",
      "Protective Footwear,/home/jupyter/Final_Project/Image_fine_tunning/dataset1/234344384.jpeg,Justin Men's Cowhide Stampede Work Boots,\"Experience unparalleled style and comfort of the Justin® Men's Cowhide Stampede work boots. Crafted with intriguing dark green leather uppers and roomy square toe, these boots are sure to draw attention and do their job. The Cowhide Stampede boots offer reliable comfort thanks to their J-Flex Flexible Comfort System®. An EH rating protects from jobsite hazards while the Stampede® outsole delivers unrivaled grip. FEATURES: Hunter green leather upper Pull on style slides on easily Square toe for a roomy fit J-Flex Flexible Comfort System® with leather covered cushion insole and triple density insole board Electrical Hazard Stampede™ rubber and EVA outsole supplies reliable traction Shaft height: 11''\",31\n",
      "Tops,/home/jupyter/Final_Project/Image_fine_tunning/dataset1/856430.jpeg,Sleeveless Flared Shell,\"Designed in an array of saturated hues, this must-have peplum tops off a look with just the right touch of feminine flounce. Jewel neck. Sleeveless. Peplum hem. 23 1/2\"\" long. Imported  \",2\n",
      "One-Piece Swimsuits,/home/jupyter/Final_Project/Image_fine_tunning/dataset1/234409018.jpeg,TYR Women's Fresno Cutoutfit Racerback Swimsuit,\"Train even better with the TYR® Fresno Cutoutfit Racerback Swimsuit. Thin straps, open back and low scoop neckline provide mobility and comfort when wearing the TYR® Fresno Cutoutfit Racerback Swimsuit. FEATURES: One piece swimsuit Scoop neckline Flexible, thin racerback straps High leg cut Low open back Low coverage UPF technology protects from the sun 4-way stretch fabric Fade-free color Chlorine proof\",30\n",
      "Ties,/home/jupyter/Final_Project/Image_fine_tunning/dataset1/177887.jpeg,Corsini Sevenfold Purple Multicolor Squares on Black Narrow Tie,\"Tailored from pure silk, this sevenfold tie is made from a single piece of fabric that is folded seven times creating a tie of greater weight, thicker feel, superior drape, and a larger knot. The result is luxurious neckwear of exceptional quality.\",1\n",
      "Socks,/home/jupyter/Final_Project/Image_fine_tunning/dataset1/178920.jpeg,Pronto Uomo Burgundy Stripe Boy's Socks,\"Add a splash of color and style to the young gentleman's wardrobe with these colorful dress socks. This pair features a stripe pattern in burgundy, black, and blue.\",6\n"
     ]
    }
   ],
   "source": [
    "import pandas as pd\n",
    "middle_name = 'train'\n",
    "df = pd.read_csv('dataset1_data_' + middle_name + '_label_ix.csv')\n",
    "def gs2local(fpath):\n",
    "    import os\n",
    "    split = fpath.split('/')\n",
    "    return os.path.join('/home/jupyter/Final_Project/Image_fine_tunning', *split[-2:])\n",
    "df.product_id = df.product_id.apply(gs2local)\n",
    "df.to_csv('dataset1_data_' + middle_name + '_local.csv', index=False)\n",
    "f = 'dataset1_data_' + middle_name + '_local.csv'\n",
    "!head $f"
   ]
  }
 ],
 "metadata": {
  "kernelspec": {
   "display_name": "Python 3",
   "language": "python",
   "name": "python3"
  },
  "language_info": {
   "codemirror_mode": {
    "name": "ipython",
    "version": 3
   },
   "file_extension": ".py",
   "mimetype": "text/x-python",
   "name": "python",
   "nbconvert_exporter": "python",
   "pygments_lexer": "ipython3",
   "version": "3.5.3"
  }
 },
 "nbformat": 4,
 "nbformat_minor": 2
}
