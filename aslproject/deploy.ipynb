{
 "cells": [
  {
   "cell_type": "code",
   "execution_count": 1,
   "metadata": {},
   "outputs": [],
   "source": [
    "# Specify the model folder on gcs here\n",
    "MODEL_FOLDER = 'imagemodel_190404_175330'"
   ]
  },
  {
   "cell_type": "markdown",
   "metadata": {},
   "source": [
    "# Don't modify anything below this. Just run all cells"
   ]
  },
  {
   "cell_type": "code",
   "execution_count": 2,
   "metadata": {},
   "outputs": [],
   "source": [
    "import os\n",
    "PROJECT = 'qwiklabs-gcp-3f19cbba7aa3ae63'\n",
    "MODEL_NAME = 'image_classification'\n",
    "REGION = 'us-central1'\n",
    "BUCKET = 'project-sample'\n",
    "os.environ['MODEL_FOLDER'] = MODEL_FOLDER\n",
    "os.environ['MODEL_NAME'] = MODEL_NAME\n",
    "os.environ['REGION'] = REGION\n",
    "os.environ['BUCKET'] = BUCKET\n",
    "os.environ['TFVERSION'] = \"1.13\"\n",
    "os.environ['PROJECT'] = PROJECT"
   ]
  },
  {
   "cell_type": "code",
   "execution_count": 130,
   "metadata": {},
   "outputs": [],
   "source": [
    "%%bash\n",
    "MODEL_EXISTS=$(gcloud ml-engine models list | tail -n +2 | awk -v model_name=\"${MODEL_NAME}\" '$1 == model_name { print $1 }' | wc -l)\n",
    "if [ ${MODEL_EXISTS} = 0 ]; then\n",
    "    echo \"Creating model ${MODEL_NAME}\"\n",
    "    gcloud ml-engine models create ${MODEL_NAME} --regions ${REGION}\n",
    "fi"
   ]
  },
  {
   "cell_type": "code",
   "execution_count": 3,
   "metadata": {},
   "outputs": [
    {
     "name": "stdout",
     "output_type": "stream",
     "text": [
      "Process is interrupted.\n"
     ]
    }
   ],
   "source": [
    "%%bash\n",
    "MODEL_LOCATION=$(gsutil ls gs://${BUCKET}/${MODEL_FOLDER}/trained/export/exporter/ | tail -1)\n",
    "gcloud ml-engine versions create ${MODEL_FOLDER} --model ${MODEL_NAME} --origin ${MODEL_LOCATION} --runtime-version ${TFVERSION}"
   ]
  },
  {
   "cell_type": "code",
   "execution_count": 6,
   "metadata": {},
   "outputs": [
    {
     "name": "stderr",
     "output_type": "stream",
     "text": [
      "Creating version (this might take a few minutes)......\n",
      "...........................................................................................................................................................................................................................................................................................................................................................................................................................................done.\n"
     ]
    }
   ],
   "source": [
    "%%bash\n",
    "MODEL_LOCATION=$(gsutil ls gs://${BUCKET}/description_model/trained/export/exporter/ | tail -1)\n",
    "gcloud ml-engine versions create description_model --model ${MODEL_NAME} --origin ${MODEL_LOCATION} --runtime-version ${TFVERSION}"
   ]
  },
  {
   "cell_type": "markdown",
   "metadata": {},
   "source": [
    "# Deploying app engine"
   ]
  },
  {
   "cell_type": "code",
   "execution_count": 7,
   "metadata": {},
   "outputs": [
    {
     "name": "stdout",
     "output_type": "stream",
     "text": [
      "Collecting Flask==0.12.1 (from -r requirements.txt (line 1))\n",
      "  Using cached https://files.pythonhosted.org/packages/f4/43/fb2d5fb1d10e1d0402dd57836cf9a78b7f69c8b5f76a04b6e6113d0d7c5a/Flask-0.12.1-py2.py3-none-any.whl\n",
      "Collecting google-api-python-client==1.6.2 (from -r requirements.txt (line 2))\n",
      "  Using cached https://files.pythonhosted.org/packages/08/85/e43f6d6cb7ea69b580cf2499ed91ea7a6c6eda5c2081305039d088957400/google_api_python_client-1.6.2-py2.py3-none-any.whl\n",
      "Collecting itsdangerous>=0.21 (from Flask==0.12.1->-r requirements.txt (line 1))\n",
      "  Using cached https://files.pythonhosted.org/packages/76/ae/44b03b253d6fade317f32c24d100b3b35c2239807046a4c953c7b89fa49e/itsdangerous-1.1.0-py2.py3-none-any.whl\n",
      "Collecting click>=2.0 (from Flask==0.12.1->-r requirements.txt (line 1))\n",
      "  Using cached https://files.pythonhosted.org/packages/fa/37/45185cb5abbc30d7257104c434fe0b07e5a195a6847506c074527aa599ec/Click-7.0-py2.py3-none-any.whl\n",
      "Collecting Werkzeug>=0.7 (from Flask==0.12.1->-r requirements.txt (line 1))\n",
      "  Using cached https://files.pythonhosted.org/packages/18/79/84f02539cc181cdbf5ff5a41b9f52cae870b6f632767e43ba6ac70132e92/Werkzeug-0.15.2-py2.py3-none-any.whl\n",
      "Collecting Jinja2>=2.4 (from Flask==0.12.1->-r requirements.txt (line 1))\n",
      "  Using cached https://files.pythonhosted.org/packages/7f/ff/ae64bacdfc95f27a016a7bed8e8686763ba4d277a78ca76f32659220a731/Jinja2-2.10-py2.py3-none-any.whl\n",
      "Collecting six<2dev,>=1.6.1 (from google-api-python-client==1.6.2->-r requirements.txt (line 2))\n",
      "  Using cached https://files.pythonhosted.org/packages/73/fb/00a976f728d0d1fecfe898238ce23f502a721c0ac0ecfedb80e0d88c64e9/six-1.12.0-py2.py3-none-any.whl\n",
      "Collecting uritemplate<4dev,>=3.0.0 (from google-api-python-client==1.6.2->-r requirements.txt (line 2))\n",
      "  Using cached https://files.pythonhosted.org/packages/f6/25/66a49231b44409d7f07cfcf2506a8b070ce3c99fc47cc256bea833f24791/uritemplate-3.0.0-py2-none-any.whl\n",
      "Collecting oauth2client<5.0.0dev,>=1.5.0 (from google-api-python-client==1.6.2->-r requirements.txt (line 2))\n",
      "  Using cached https://files.pythonhosted.org/packages/95/a9/4f25a14d23f0786b64875b91784607c2277eff25d48f915e39ff0cff505a/oauth2client-4.1.3-py2.py3-none-any.whl\n",
      "Collecting httplib2<1dev,>=0.9.2 (from google-api-python-client==1.6.2->-r requirements.txt (line 2))\n",
      "Collecting MarkupSafe>=0.23 (from Jinja2>=2.4->Flask==0.12.1->-r requirements.txt (line 1))\n",
      "  Using cached https://files.pythonhosted.org/packages/fb/40/f3adb7cf24a8012813c5edb20329eb22d5d8e2a0ecf73d21d6b85865da11/MarkupSafe-1.1.1-cp27-cp27mu-manylinux1_x86_64.whl\n",
      "Collecting rsa>=3.1.4 (from oauth2client<5.0.0dev,>=1.5.0->google-api-python-client==1.6.2->-r requirements.txt (line 2))\n",
      "  Using cached https://files.pythonhosted.org/packages/02/e5/38518af393f7c214357079ce67a317307936896e961e35450b70fad2a9cf/rsa-4.0-py2.py3-none-any.whl\n",
      "Collecting pyasn1-modules>=0.0.5 (from oauth2client<5.0.0dev,>=1.5.0->google-api-python-client==1.6.2->-r requirements.txt (line 2))\n",
      "  Using cached https://files.pythonhosted.org/packages/da/98/8ddd9fa4d84065926832bcf2255a2b69f1d03330aa4d1c49cc7317ac888e/pyasn1_modules-0.2.4-py2.py3-none-any.whl\n",
      "Collecting pyasn1>=0.1.7 (from oauth2client<5.0.0dev,>=1.5.0->google-api-python-client==1.6.2->-r requirements.txt (line 2))\n",
      "  Using cached https://files.pythonhosted.org/packages/7b/7c/c9386b82a25115cccf1903441bba3cbadcfae7b678a20167347fa8ded34c/pyasn1-0.4.5-py2.py3-none-any.whl\n",
      "Installing collected packages: itsdangerous, click, Werkzeug, MarkupSafe, Jinja2, Flask, six, uritemplate, pyasn1, rsa, httplib2, pyasn1-modules, oauth2client, google-api-python-client\n",
      "Successfully installed Flask-0.12.1 Jinja2-2.10 MarkupSafe-1.1.1 Werkzeug-0.15.2 click-7.0 google-api-python-client-1.6.2 httplib2-0.12.1 itsdangerous-1.1.0 oauth2client-4.1.3 pyasn1-0.4.5 pyasn1-modules-0.2.4 rsa-4.0 six-1.12.0 uritemplate-3.0.0\n"
     ]
    },
    {
     "name": "stderr",
     "output_type": "stream",
     "text": [
      "Target directory /home/jupyter/Final_Project/app/lib/Werkzeug-0.15.2.dist-info already exists. Specify --upgrade to force replacement.\n",
      "Target directory /home/jupyter/Final_Project/app/lib/Flask-0.12.1.dist-info already exists. Specify --upgrade to force replacement.\n",
      "Target directory /home/jupyter/Final_Project/app/lib/httplib2-0.12.1.dist-info already exists. Specify --upgrade to force replacement.\n",
      "Target directory /home/jupyter/Final_Project/app/lib/apiclient already exists. Specify --upgrade to force replacement.\n",
      "Target directory /home/jupyter/Final_Project/app/lib/markupsafe already exists. Specify --upgrade to force replacement.\n",
      "Target directory /home/jupyter/Final_Project/app/lib/six.py already exists. Specify --upgrade to force replacement.\n",
      "Target directory /home/jupyter/Final_Project/app/lib/Jinja2-2.10.dist-info already exists. Specify --upgrade to force replacement.\n",
      "Target directory /home/jupyter/Final_Project/app/lib/oauth2client-4.1.3.dist-info already exists. Specify --upgrade to force replacement.\n",
      "Target directory /home/jupyter/Final_Project/app/lib/Click-7.0.dist-info already exists. Specify --upgrade to force replacement.\n",
      "Target directory /home/jupyter/Final_Project/app/lib/rsa already exists. Specify --upgrade to force replacement.\n",
      "Target directory /home/jupyter/Final_Project/app/lib/click already exists. Specify --upgrade to force replacement.\n",
      "Target directory /home/jupyter/Final_Project/app/lib/httplib2 already exists. Specify --upgrade to force replacement.\n",
      "Target directory /home/jupyter/Final_Project/app/lib/six.pyc already exists. Specify --upgrade to force replacement.\n",
      "Target directory /home/jupyter/Final_Project/app/lib/oauth2client already exists. Specify --upgrade to force replacement.\n",
      "Target directory /home/jupyter/Final_Project/app/lib/itsdangerous already exists. Specify --upgrade to force replacement.\n",
      "Target directory /home/jupyter/Final_Project/app/lib/uritemplate already exists. Specify --upgrade to force replacement.\n",
      "Target directory /home/jupyter/Final_Project/app/lib/flask already exists. Specify --upgrade to force replacement.\n",
      "Target directory /home/jupyter/Final_Project/app/lib/itsdangerous-1.1.0.dist-info already exists. Specify --upgrade to force replacement.\n",
      "Target directory /home/jupyter/Final_Project/app/lib/uritemplate-3.0.0.dist-info already exists. Specify --upgrade to force replacement.\n",
      "Target directory /home/jupyter/Final_Project/app/lib/googleapiclient already exists. Specify --upgrade to force replacement.\n",
      "Target directory /home/jupyter/Final_Project/app/lib/six-1.12.0.dist-info already exists. Specify --upgrade to force replacement.\n",
      "Target directory /home/jupyter/Final_Project/app/lib/google_api_python_client-1.6.2.dist-info already exists. Specify --upgrade to force replacement.\n",
      "Target directory /home/jupyter/Final_Project/app/lib/pyasn1-0.4.5.dist-info already exists. Specify --upgrade to force replacement.\n",
      "Target directory /home/jupyter/Final_Project/app/lib/rsa-4.0.dist-info already exists. Specify --upgrade to force replacement.\n",
      "Target directory /home/jupyter/Final_Project/app/lib/jinja2 already exists. Specify --upgrade to force replacement.\n",
      "Target directory /home/jupyter/Final_Project/app/lib/pyasn1_modules-0.2.4.dist-info already exists. Specify --upgrade to force replacement.\n",
      "Target directory /home/jupyter/Final_Project/app/lib/pyasn1 already exists. Specify --upgrade to force replacement.\n",
      "Target directory /home/jupyter/Final_Project/app/lib/MarkupSafe-1.1.1.dist-info already exists. Specify --upgrade to force replacement.\n",
      "Target directory /home/jupyter/Final_Project/app/lib/werkzeug already exists. Specify --upgrade to force replacement.\n",
      "Target directory /home/jupyter/Final_Project/app/lib/pyasn1_modules already exists. Specify --upgrade to force replacement.\n",
      "Services to deploy:\n",
      "\n",
      "descriptor:      [/home/jupyter/Final_Project/app/app.yaml]\n",
      "source:          [/home/jupyter/Final_Project/app]\n",
      "target project:  [qwiklabs-gcp-3f19cbba7aa3ae63]\n",
      "target service:  [default]\n",
      "target version:  [20190405t140557]\n",
      "target url:      [https://qwiklabs-gcp-3f19cbba7aa3ae63.appspot.com]\n",
      "\n",
      "\n",
      "Do you want to continue (Y/n)?  \n",
      "Beginning deployment of service [default]...\n",
      "#============================================================#\n",
      "#= Uploading 0 files to Google Cloud Storage                =#\n",
      "#============================================================#\n",
      "File upload done.\n",
      "Updating service [default]...\n",
      "...........................................................................................done.\n",
      "Setting traffic split for service [default]...\n",
      "..................................done.\n",
      "Deployed service [default] to [https://qwiklabs-gcp-3f19cbba7aa3ae63.appspot.com]\n",
      "\n",
      "You can stream logs from the command line by running:\n",
      "  $ gcloud app logs tail -s default\n",
      "\n",
      "To view your application in the web browser run:\n",
      "  $ gcloud app browse\n"
     ]
    }
   ],
   "source": [
    "%%bash\n",
    "cd app\n",
    "pip install -r requirements.txt -t lib --system\n",
    "\n",
    "# Replacing version of modle\n",
    "cat app.yaml | sed -r 's/VERSION_NAME: .*/VERSION_NAME: \"description_model\"/' > app_temp.yaml\n",
    "cat app_temp.yaml > app.yaml\n",
    "rm app_temp.yaml\n",
    "\n",
    "# Deploying\n",
    "#gcloud app create --region ${REGION}\n",
    "gcloud app deploy"
   ]
  },
  {
   "cell_type": "code",
   "execution_count": 127,
   "metadata": {},
   "outputs": [
    {
     "name": "stdout",
     "output_type": "stream",
     "text": [
      "Collecting Flask==0.12.1 (from -r requirements.txt (line 1))\n",
      "  Using cached https://files.pythonhosted.org/packages/f4/43/fb2d5fb1d10e1d0402dd57836cf9a78b7f69c8b5f76a04b6e6113d0d7c5a/Flask-0.12.1-py2.py3-none-any.whl\n",
      "Collecting google-api-python-client==1.6.2 (from -r requirements.txt (line 2))\n",
      "  Using cached https://files.pythonhosted.org/packages/08/85/e43f6d6cb7ea69b580cf2499ed91ea7a6c6eda5c2081305039d088957400/google_api_python_client-1.6.2-py2.py3-none-any.whl\n",
      "Collecting itsdangerous>=0.21 (from Flask==0.12.1->-r requirements.txt (line 1))\n",
      "  Using cached https://files.pythonhosted.org/packages/76/ae/44b03b253d6fade317f32c24d100b3b35c2239807046a4c953c7b89fa49e/itsdangerous-1.1.0-py2.py3-none-any.whl\n",
      "Collecting click>=2.0 (from Flask==0.12.1->-r requirements.txt (line 1))\n",
      "  Using cached https://files.pythonhosted.org/packages/fa/37/45185cb5abbc30d7257104c434fe0b07e5a195a6847506c074527aa599ec/Click-7.0-py2.py3-none-any.whl\n",
      "Collecting Werkzeug>=0.7 (from Flask==0.12.1->-r requirements.txt (line 1))\n",
      "  Using cached https://files.pythonhosted.org/packages/18/79/84f02539cc181cdbf5ff5a41b9f52cae870b6f632767e43ba6ac70132e92/Werkzeug-0.15.2-py2.py3-none-any.whl\n",
      "Collecting Jinja2>=2.4 (from Flask==0.12.1->-r requirements.txt (line 1))\n",
      "  Using cached https://files.pythonhosted.org/packages/7f/ff/ae64bacdfc95f27a016a7bed8e8686763ba4d277a78ca76f32659220a731/Jinja2-2.10-py2.py3-none-any.whl\n",
      "Collecting six<2dev,>=1.6.1 (from google-api-python-client==1.6.2->-r requirements.txt (line 2))\n",
      "  Using cached https://files.pythonhosted.org/packages/73/fb/00a976f728d0d1fecfe898238ce23f502a721c0ac0ecfedb80e0d88c64e9/six-1.12.0-py2.py3-none-any.whl\n",
      "Collecting uritemplate<4dev,>=3.0.0 (from google-api-python-client==1.6.2->-r requirements.txt (line 2))\n",
      "  Using cached https://files.pythonhosted.org/packages/f6/25/66a49231b44409d7f07cfcf2506a8b070ce3c99fc47cc256bea833f24791/uritemplate-3.0.0-py2-none-any.whl\n",
      "Collecting oauth2client<5.0.0dev,>=1.5.0 (from google-api-python-client==1.6.2->-r requirements.txt (line 2))\n",
      "  Using cached https://files.pythonhosted.org/packages/95/a9/4f25a14d23f0786b64875b91784607c2277eff25d48f915e39ff0cff505a/oauth2client-4.1.3-py2.py3-none-any.whl\n",
      "Collecting httplib2<1dev,>=0.9.2 (from google-api-python-client==1.6.2->-r requirements.txt (line 2))\n",
      "Collecting MarkupSafe>=0.23 (from Jinja2>=2.4->Flask==0.12.1->-r requirements.txt (line 1))\n",
      "  Using cached https://files.pythonhosted.org/packages/fb/40/f3adb7cf24a8012813c5edb20329eb22d5d8e2a0ecf73d21d6b85865da11/MarkupSafe-1.1.1-cp27-cp27mu-manylinux1_x86_64.whl\n",
      "Collecting rsa>=3.1.4 (from oauth2client<5.0.0dev,>=1.5.0->google-api-python-client==1.6.2->-r requirements.txt (line 2))\n",
      "  Using cached https://files.pythonhosted.org/packages/02/e5/38518af393f7c214357079ce67a317307936896e961e35450b70fad2a9cf/rsa-4.0-py2.py3-none-any.whl\n",
      "Collecting pyasn1-modules>=0.0.5 (from oauth2client<5.0.0dev,>=1.5.0->google-api-python-client==1.6.2->-r requirements.txt (line 2))\n",
      "  Using cached https://files.pythonhosted.org/packages/da/98/8ddd9fa4d84065926832bcf2255a2b69f1d03330aa4d1c49cc7317ac888e/pyasn1_modules-0.2.4-py2.py3-none-any.whl\n",
      "Collecting pyasn1>=0.1.7 (from oauth2client<5.0.0dev,>=1.5.0->google-api-python-client==1.6.2->-r requirements.txt (line 2))\n",
      "  Using cached https://files.pythonhosted.org/packages/7b/7c/c9386b82a25115cccf1903441bba3cbadcfae7b678a20167347fa8ded34c/pyasn1-0.4.5-py2.py3-none-any.whl\n",
      "Installing collected packages: itsdangerous, click, Werkzeug, MarkupSafe, Jinja2, Flask, six, uritemplate, pyasn1, rsa, httplib2, pyasn1-modules, oauth2client, google-api-python-client\n",
      "Successfully installed Flask-0.12.1 Jinja2-2.10 MarkupSafe-1.1.1 Werkzeug-0.15.2 click-7.0 google-api-python-client-1.6.2 httplib2-0.12.1 itsdangerous-1.1.0 oauth2client-4.1.3 pyasn1-0.4.5 pyasn1-modules-0.2.4 rsa-4.0 six-1.12.0 uritemplate-3.0.0\n"
     ]
    },
    {
     "name": "stderr",
     "output_type": "stream",
     "text": [
      "Target directory /home/jupyter/Final_Project/app/lib/Werkzeug-0.15.2.dist-info already exists. Specify --upgrade to force replacement.\n",
      "Target directory /home/jupyter/Final_Project/app/lib/Flask-0.12.1.dist-info already exists. Specify --upgrade to force replacement.\n",
      "Target directory /home/jupyter/Final_Project/app/lib/httplib2-0.12.1.dist-info already exists. Specify --upgrade to force replacement.\n",
      "Target directory /home/jupyter/Final_Project/app/lib/apiclient already exists. Specify --upgrade to force replacement.\n",
      "Target directory /home/jupyter/Final_Project/app/lib/markupsafe already exists. Specify --upgrade to force replacement.\n",
      "Target directory /home/jupyter/Final_Project/app/lib/six.py already exists. Specify --upgrade to force replacement.\n",
      "Target directory /home/jupyter/Final_Project/app/lib/Jinja2-2.10.dist-info already exists. Specify --upgrade to force replacement.\n",
      "Target directory /home/jupyter/Final_Project/app/lib/oauth2client-4.1.3.dist-info already exists. Specify --upgrade to force replacement.\n",
      "Target directory /home/jupyter/Final_Project/app/lib/Click-7.0.dist-info already exists. Specify --upgrade to force replacement.\n",
      "Target directory /home/jupyter/Final_Project/app/lib/rsa already exists. Specify --upgrade to force replacement.\n",
      "Target directory /home/jupyter/Final_Project/app/lib/click already exists. Specify --upgrade to force replacement.\n",
      "Target directory /home/jupyter/Final_Project/app/lib/httplib2 already exists. Specify --upgrade to force replacement.\n",
      "Target directory /home/jupyter/Final_Project/app/lib/six.pyc already exists. Specify --upgrade to force replacement.\n",
      "Target directory /home/jupyter/Final_Project/app/lib/oauth2client already exists. Specify --upgrade to force replacement.\n",
      "Target directory /home/jupyter/Final_Project/app/lib/itsdangerous already exists. Specify --upgrade to force replacement.\n",
      "Target directory /home/jupyter/Final_Project/app/lib/uritemplate already exists. Specify --upgrade to force replacement.\n",
      "Target directory /home/jupyter/Final_Project/app/lib/flask already exists. Specify --upgrade to force replacement.\n",
      "Target directory /home/jupyter/Final_Project/app/lib/itsdangerous-1.1.0.dist-info already exists. Specify --upgrade to force replacement.\n",
      "Target directory /home/jupyter/Final_Project/app/lib/uritemplate-3.0.0.dist-info already exists. Specify --upgrade to force replacement.\n",
      "Target directory /home/jupyter/Final_Project/app/lib/googleapiclient already exists. Specify --upgrade to force replacement.\n",
      "Target directory /home/jupyter/Final_Project/app/lib/six-1.12.0.dist-info already exists. Specify --upgrade to force replacement.\n",
      "Target directory /home/jupyter/Final_Project/app/lib/google_api_python_client-1.6.2.dist-info already exists. Specify --upgrade to force replacement.\n",
      "Target directory /home/jupyter/Final_Project/app/lib/pyasn1-0.4.5.dist-info already exists. Specify --upgrade to force replacement.\n",
      "Target directory /home/jupyter/Final_Project/app/lib/rsa-4.0.dist-info already exists. Specify --upgrade to force replacement.\n",
      "Target directory /home/jupyter/Final_Project/app/lib/jinja2 already exists. Specify --upgrade to force replacement.\n",
      "Target directory /home/jupyter/Final_Project/app/lib/pyasn1_modules-0.2.4.dist-info already exists. Specify --upgrade to force replacement.\n",
      "Target directory /home/jupyter/Final_Project/app/lib/pyasn1 already exists. Specify --upgrade to force replacement.\n",
      "Target directory /home/jupyter/Final_Project/app/lib/MarkupSafe-1.1.1.dist-info already exists. Specify --upgrade to force replacement.\n",
      "Target directory /home/jupyter/Final_Project/app/lib/werkzeug already exists. Specify --upgrade to force replacement.\n",
      "Target directory /home/jupyter/Final_Project/app/lib/pyasn1_modules already exists. Specify --upgrade to force replacement.\n",
      "Services to deploy:\n",
      "\n",
      "descriptor:      [/home/jupyter/Final_Project/app/app.yaml]\n",
      "source:          [/home/jupyter/Final_Project/app]\n",
      "target project:  [qwiklabs-gcp-3f19cbba7aa3ae63]\n",
      "target service:  [default]\n",
      "target version:  [20190404t165840]\n",
      "target url:      [https://qwiklabs-gcp-3f19cbba7aa3ae63.appspot.com]\n",
      "\n",
      "\n",
      "Do you want to continue (Y/n)?  \n",
      "Beginning deployment of service [default]...\n",
      "#============================================================#\n",
      "#= Uploading 1 file to Google Cloud Storage                 =#\n",
      "#============================================================#\n",
      "File upload done.\n",
      "Updating service [default]...\n",
      "................................................................done.\n",
      "Setting traffic split for service [default]...\n",
      "..................................done.\n",
      "Deployed service [default] to [https://qwiklabs-gcp-3f19cbba7aa3ae63.appspot.com]\n",
      "\n",
      "You can stream logs from the command line by running:\n",
      "  $ gcloud app logs tail -s default\n",
      "\n",
      "To view your application in the web browser run:\n",
      "  $ gcloud app browse\n"
     ]
    }
   ],
   "source": [
    "%%bash\n",
    "cd app\n",
    "pip install -r requirements.txt -t lib --system\n",
    "\n",
    "# Replacing version of modle\n",
    "cat app.yaml | sed -r 's/VERSION_NAME: .*/VERSION_NAME: \"'${MODEL_FOLDER}'\"/' > app_temp.yaml\n",
    "cat app_temp.yaml > app.yaml\n",
    "rm app_temp.yaml\n",
    "\n",
    "# Deploying\n",
    "#gcloud app create --region ${REGION}\n",
    "gcloud app deploy"
   ]
  },
  {
   "cell_type": "code",
   "execution_count": 25,
   "metadata": {},
   "outputs": [],
   "source": [
    "import json\n",
    "import os\n",
    "\n",
    "from flask import Flask\n",
    "from flask import jsonify\n",
    "from flask import render_template\n",
    "from flask import request\n",
    "from flask import url_for\n",
    "from googleapiclient import discovery\n",
    "from oauth2client.client import GoogleCredentials\n",
    "\n",
    "credentials = GoogleCredentials.get_application_default()\n",
    "api = discovery.build('ml', 'v1', credentials=credentials)\n",
    "model_name = os.getenv('MODEL_NAME', 'image_classification')\n",
    "version_name = os.getenv('VERSION_NAME', 'description_model')\n",
    "\n",
    "def get_prediction(features):\n",
    "  #input_data = {'instances': [features]}\n",
    "  input_data = {'instances': features['input']}\n",
    "  parent = 'projects/%s/models/%s/versions/%s' % ('qwiklabs-gcp-3f19cbba7aa3ae63', model_name, version_name)\n",
    "  prediction = api.projects().predict(body=input_data, name=parent).execute()\n",
    "  return prediction[u'predictions'][0][u'dense_1']\n",
    "  #return prediction['predictions'][0]['predictions'][0]\n",
    "\n",
    "def predict():\n",
    "    features = {}\n",
    "    features['key'] = 'nokey'\n",
    "    features['product_id'] = 'my-id'\n",
    "    features['input'] = 'Nike Women\\'s Indy Sports Bra,\"Designed to support you through low-impact, high-energy workouts such as pilates and yoga, the Nike® Indy Sports Bra features moisture-wicking Dri-FIT® technology and a mesh back panel to help you stay cool and dry, while the adjustable straps and removable pads offer custom, comfortable coverage. FEATURES: Light support sports bra Lightly compressive fabric provides support for low-impact activities Dri-FIT® technology wicks moisture to keep you dry and comfortable Mesh back panel offers breathability in high heat zone Removable pads provide light support and natural definition Racerback design allows for full range of motion Soft, low-profile elastic straps are adjustable for a personalized fit V-neck silhouette for a feminine look\"'\n",
    "    features['description'] = 'dfsfds'\n",
    "\n",
    "    prediction = get_prediction(features)\n",
    "    \n",
    "    CLASSES_LIST = ['Bras', 'Ties', 'Tops', 'Jeans', 'Polos', 'Rings', 'Socks',\n",
    "       'Skirts', 'Watches', 'Leggings', 'Sweaters', 'T-Shirts',\n",
    "       'Necklaces', 'Swim Tops', 'Underwear', 'Fragrances', 'Range Hoods',\n",
    "       'Basins/Sinks', 'Button-Downs', 'Slacks/Pants', 'Swim Bottoms',\n",
    "       'Jackets/Coats', 'Office Chairs', 'Gloves/Mittens',\n",
    "       'Semi-Brim Hats', 'Dresses & Gowns', 'Pendants & Charms',\n",
    "       'Blazers/Suit Coats', 'Swim Variety Packs', 'Bracelets & Anklets',\n",
    "       'One-Piece Swimsuits', 'Protective Footwear',\n",
    "       'Faucets/Taps/Handles', 'Bedding Variety Packs',\n",
    "       'Earrings & Ear Jewelry', 'Protective/Active Tops',\n",
    "       'Cardigans/Kimonos/Wraps', 'Everyday/Dress Footwear',\n",
    "       'Protective/Active Pants', 'Protective/Active Vests',\n",
    "       'Tableware Variety Packs', 'Active/Athletic Footwear',\n",
    "       'Protective/Active Shorts', 'Specialty Sport Footwear',\n",
    "       'Hair Cleaning & Treatments', 'Business/Formal Dress Suits',\n",
    "       'Sweatshirts/Fleece Pullovers', 'Clothing Sets & Variety Packs',\n",
    "       'Protective/Active Button-Downs',\n",
    "       'Vitamins, Minerals, & Dietary Supplements']\n",
    "    \n",
    "    max_prediction = -float(\"inf\")\n",
    "    prediction_class = ''\n",
    "    for i in range(len(prediction)):\n",
    "        if prediction[i] > max_prediction:\n",
    "            max_prediction = prediction[i]\n",
    "            prediction_class = CLASSES_LIST[i]\n",
    "    print(prediction_class)\n",
    "    #jsonify({'result': '{:.2f} lbs.'.format(prediction)})"
   ]
  },
  {
   "cell_type": "code",
   "execution_count": 26,
   "metadata": {},
   "outputs": [
    {
     "name": "stdout",
     "output_type": "stream",
     "text": [
      "Bedding Variety Packs\n"
     ]
    }
   ],
   "source": [
    "predict()"
   ]
  },
  {
   "cell_type": "code",
   "execution_count": null,
   "metadata": {},
   "outputs": [],
   "source": []
  }
 ],
 "metadata": {
  "kernelspec": {
   "display_name": "Python 2",
   "language": "python",
   "name": "python2"
  },
  "language_info": {
   "codemirror_mode": {
    "name": "ipython",
    "version": 2
   },
   "file_extension": ".py",
   "mimetype": "text/x-python",
   "name": "python",
   "nbconvert_exporter": "python",
   "pygments_lexer": "ipython2",
   "version": "2.7.13"
  }
 },
 "nbformat": 4,
 "nbformat_minor": 2
}
